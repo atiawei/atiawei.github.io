{
  "nbformat": 4,
  "nbformat_minor": 0,
  "metadata": {
    "colab": {
      "name": "Churn Prediction.ipynb",
      "provenance": [],
      "authorship_tag": "ABX9TyPbB0aVSXHp1Ot0E0wvwqKG",
      "include_colab_link": true
    },
    "kernelspec": {
      "name": "python3",
      "display_name": "Python 3"
    },
    "language_info": {
      "name": "python"
    }
  },
  "cells": [
    {
      "cell_type": "markdown",
      "metadata": {
        "id": "view-in-github",
        "colab_type": "text"
      },
      "source": [
        "<a href=\"https://colab.research.google.com/github/atiawei/atiawei.github.io/blob/master/Churn_Prediction.ipynb\" target=\"_parent\"><img src=\"https://colab.research.google.com/assets/colab-badge.svg\" alt=\"Open In Colab\"/></a>"
      ]
    },
    {
      "cell_type": "markdown",
      "source": [
        "**Prediksi Pelanggan yang berhenti berlangganan layanan**\n",
        "\n",
        "Dalam contoh kasus ini, akan dibuat model churn prediction untuk sebuah perusahaan telekomunikasi yang menjual layanan internet nirkabel dengan kartu prabayar. Tidak sedikit pelanggan perusahaan ini yang telah berpindah langganan ke perusahaan pesaing akibat tawaran harga dan layanan yang lebih menarik. Pihak manajemen perusahaan ini menyadari terkait masalah tersebut dan berencana meluncurkan program-program promosi untuk menahan churn rate. Program promosi ini hanya akan ditawarkan melalui SMS kepada kelompokl pelanggan yang dianggap rawan churn. Agar lebih efektif, machine learning diperlukan untuk menentukan kelompok pelanggan tsb."
      ],
      "metadata": {
        "id": "gBFMvgg0iZ04"
      }
    },
    {
      "cell_type": "code",
      "execution_count": null,
      "metadata": {
        "id": "r4xZF6gXHZBu"
      },
      "outputs": [],
      "source": [
        "#Input Data\n",
        "import pandas as pd\n",
        "df1=pd.read_csv('churnprediction_ch9.csv', sep=',', index_col=['customer_id'])\n",
        "df1.head(10)\n",
        "df1.info()"
      ]
    },
    {
      "cell_type": "code",
      "source": [
        "dfAktifChurn = df1.groupby('churn').count()\n",
        "import matplotlib.pyplot as plt\n",
        "plt.pie(dfAktifChurn['product'],labels=['Aktif', 'Churn'], autopct='%1.0f%%')\n",
        "plt.title('Persentase Pelanggan Aktif vs Churn')\n",
        "plt.axis('equal')\n",
        "plt.show()"
      ],
      "metadata": {
        "colab": {
          "base_uri": "https://localhost:8080/",
          "height": 264
        },
        "id": "5j4c83S2Kwu0",
        "outputId": "72da59bc-7086-450d-cde8-be2c46bbbaee"
      },
      "execution_count": null,
      "outputs": [
        {
          "output_type": "display_data",
          "data": {
            "text/plain": [
              "<Figure size 432x288 with 1 Axes>"
            ],
            "image/png": "[encoded data removed]"
          },
          "metadata": {}
        }
      ]
    },
    {
      "cell_type": "code",
      "source": [
        "df1['product'].value_counts()\n",
        "pd.get_dummies(df1['product'])"
      ],
      "metadata": {
        "id": "pMX_CWR6Lqmn"
      },
      "execution_count": null,
      "outputs": []
    },
    {
      "cell_type": "code",
      "source": [
        "df2 = pd.concat([df1, pd.get_dummies(df1['product'])], axis=1, sort=False)\n",
        "df2.drop(['product'], axis=1, inplace=True)\n",
        "dfKorelasi = df2.corr()"
      ],
      "metadata": {
        "id": "4-QOXtKLL8g3"
      },
      "execution_count": null,
      "outputs": []
    },
    {
      "cell_type": "code",
      "source": [
        "#Feature Selection\n",
        "import seaborn as sns\n",
        "dfKorelasi = df2.corr()\n",
        "sns.heatmap(dfKorelasi, xticklabels=dfKorelasi.columns.values, yticklabels=dfKorelasi.columns.values, annot = True, annot_kws={'size':12})\n",
        "heat_map=plt.gcf()\n",
        "heat_map.set_size_inches(10,10)\n",
        "plt.xticks(fontsize=15)\n",
        "plt.yticks(fontsize=15)\n",
        "plt.show()"
      ],
      "metadata": {
        "id": "BeGwVH17MT4F"
      },
      "execution_count": null,
      "outputs": []
    },
    {
      "cell_type": "code",
      "source": [
        "X = df2.drop(['reload_2', 'socmed_2', 'games', 'churn'], axis=1, inplace=False)\n",
        "y = df2['churn']"
      ],
      "metadata": {
        "id": "7bsU4I1dPsl-"
      },
      "execution_count": null,
      "outputs": []
    },
    {
      "cell_type": "code",
      "source": [
        "import sklearn.model_selection as ms\n",
        "X_train,X_test,y_train,y_test=ms.train_test_split(X,y,test_size=0.8,random_state=0)"
      ],
      "metadata": {
        "id": "0rtQuRdXQEgY"
      },
      "execution_count": null,
      "outputs": []
    },
    {
      "cell_type": "code",
      "source": [
        "import sklearn.preprocessing as pp\n",
        "scl = pp.StandardScaler(copy=True, with_mean=True, with_std=True)\n",
        "scl.fit(X_train)\n",
        "X_train = scl.transform(X_train)\n",
        "X_test = scl.transform(X_test)"
      ],
      "metadata": {
        "id": "9o3s4FnjQeFB"
      },
      "execution_count": null,
      "outputs": []
    },
    {
      "cell_type": "code",
      "source": [
        "#Melatih Model (Reglog)\n",
        "import sklearn.model_selection as ms\n",
        "import sklearn.linear_model as lm\n",
        "import sklearn.metrics as met\n",
        "model = lm.LogisticRegression(solver='lbfgs')\n",
        "model.fit(X_train, y_train)"
      ],
      "metadata": {
        "colab": {
          "base_uri": "https://localhost:8080/"
        },
        "id": "xjPLRlvTRA5k",
        "outputId": "6219da76-194d-4515-bc0b-0feaf1fcc349"
      },
      "execution_count": null,
      "outputs": [
        {
          "output_type": "execute_result",
          "data": {
            "text/plain": [
              "LogisticRegression()"
            ]
          },
          "metadata": {},
          "execution_count": 20
        }
      ]
    },
    {
      "cell_type": "code",
      "source": [
        "y_prediksi = model.predict(X_test)\n",
        "print(y_prediksi)\n",
        "score = met.accuracy_score(y_test, y_prediksi)\n",
        "print(\"accuracy=\", score)\n",
        "precision = met.precision_score(y_test, y_prediksi)\n",
        "print(\"precision=\", precision)\n",
        "recall = met.recall_score(y_test, y_prediksi)\n",
        "print(\"recall=\", recall)\n",
        "auc = met.roc_auc_score(y_test, y_prediksi)\n",
        "print(\"AUC=\", auc)"
      ],
      "metadata": {
        "colab": {
          "base_uri": "https://localhost:8080/"
        },
        "id": "sDmwbz_LRzFP",
        "outputId": "4bad0f60-74f4-48b9-c421-2f2518b164a4"
      },
      "execution_count": null,
      "outputs": [
        {
          "output_type": "stream",
          "name": "stdout",
          "text": [
            "[1 0 0 ... 0 0 0]\n",
            "accuracy= 0.82975\n",
            "precision= 0.6256627783669141\n",
            "recall= 0.3689806128830519\n",
            "AUC= 0.6569164898503683\n"
          ]
        }
      ]
    },
    {
      "cell_type": "code",
      "source": [
        "#Melatih model (RandomForest)\n",
        "import sklearn.ensemble as ens\n",
        "import sklearn.metrics as met\n",
        "model = ens.RandomForestClassifier(n_estimators=200, random_state=0)\n",
        "model.fit(X_train, y_train)"
      ],
      "metadata": {
        "id": "zQWlH-_VTGEq",
        "colab": {
          "base_uri": "https://localhost:8080/"
        },
        "outputId": "737b4d7c-f25b-4ee0-f973-3613a0b70400"
      },
      "execution_count": null,
      "outputs": [
        {
          "output_type": "execute_result",
          "data": {
            "text/plain": [
              "RandomForestClassifier(n_estimators=200, random_state=0)"
            ]
          },
          "metadata": {},
          "execution_count": 27
        }
      ]
    },
    {
      "cell_type": "code",
      "source": [
        "y_prediksi = model.predict(X_test)\n",
        "print(y_prediksi)\n",
        "score = met.accuracy_score(y_test, y_prediksi)\n",
        "print(\"accuracy=\", score)\n",
        "precision = met.precision_score(y_test, y_prediksi)\n",
        "print(\"precision=\", precision)\n",
        "recall = met.recall_score(y_test, y_prediksi)\n",
        "print(\"recall=\", recall)\n",
        "auc = met.roc_auc_score(y_test, y_prediksi)\n",
        "print(\"AUC=\", auc)"
      ],
      "metadata": {
        "id": "ylnZTdavTcUc"
      },
      "execution_count": null,
      "outputs": []
    },
    {
      "cell_type": "code",
      "source": [
        "important_feature = pd.Series(model.feature_importances_, index=X.columns)\n",
        "important_feature.nlargest(10).plot(kind='barh')"
      ],
      "metadata": {
        "id": "0AMblNDxTtbw",
        "colab": {
          "base_uri": "https://localhost:8080/",
          "height": 282
        },
        "outputId": "cd0a2560-d00d-4dcb-e76b-2128fbc30803"
      },
      "execution_count": null,
      "outputs": [
        {
          "output_type": "execute_result",
          "data": {
            "text/plain": [
              "<matplotlib.axes._subplots.AxesSubplot at 0x7fc1acad01d0>"
            ]
          },
          "metadata": {},
          "execution_count": 28
        },
        {
          "output_type": "display_data",
          "data": {
            "text/plain": [
              "<Figure size 432x288 with 1 Axes>"
            ],
            "image/png": "[encoded data removed]"
          },
          "metadata": {
            "needs_background": "light"
          }
        }
      ]
    },
    {
      "cell_type": "markdown",
      "source": [
        "Kesimpulan :\n",
        "\n",
        "Tiga faktor penentu terpenting terhadap kemungkinan apakah seorang pelanggan akan berhenti berlangganan adalah tenure (lamanya pelanggan menjadi pelanggan), reload (jumlah isi ulang pulsa), dan days active (jumlah hari aktif menggunakan layanan).\n",
        "\n",
        "Kartu B dan kartu C adalah dua produk yang berpengaruh terhadap churn score. Artinya pelanggan produk kartu A lebih setia dan tidak perlu terlalu dikhawatirkan akan berhenti berlangganan dalam waktu dekat.\n",
        "\n",
        "Berdasarkan model prediksi yang sudah dibuat, hendaknya pihak departemen marketing perusahaan ini dapat membidik pelanggan yang masuk dalam kriteria di atas agar mereka dapat menjadi target program promosi, untuk mencegah mereka berhenti berlangganan.\n",
        "\n"
      ],
      "metadata": {
        "id": "IXl3BsjijYUR"
      }
    }
  ]
}